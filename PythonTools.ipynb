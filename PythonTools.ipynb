{
 "cells": [
  {
   "cell_type": "code",
   "execution_count": 9,
   "id": "97f89424-2da3-41b8-9e01-35a94009590c",
   "metadata": {},
   "outputs": [
    {
     "name": "stdout",
     "output_type": "stream",
     "text": [
      "Microsoft Windows [Version 10.0.19045.2965]\n",
      "(c) Microsoft Corporation. Todos os direitos reservados.\n",
      "\n",
      "(base) C:\\Users\\Adriana Jorge\\Desktop>cd newfolder\n",
      "\n",
      "(base) C:\\Users\\Adriana Jorge\\Desktop\\newfolder>dir\n",
      " Volume in drive C is TIH0205700A\n",
      " Volume Serial Number is CAE0-3A52\n",
      "\n",
      " Directory of C:\\Users\\Adriana Jorge\\Desktop\\newfolder\n",
      "\n",
      "06/06/2023  11:54    <DIR>          .\n",
      "06/06/2023  11:54    <DIR>          ..\n",
      "               0 File(s)              0 bytes\n",
      "               2 Dir(s)  58�472�443�904 bytes free\n",
      "\n",
      "(base) C:\\Users\\Adriana Jorge\\Desktop\\newfolder>"
     ]
    }
   ],
   "source": [
    "%%cmd\n",
    "cd newfolder\n",
    "dir"
   ]
  },
  {
   "cell_type": "code",
   "execution_count": 4,
   "id": "15762ff4-1154-4229-a3b9-93e95bd0ebe0",
   "metadata": {},
   "outputs": [
    {
     "data": {
      "text/plain": [
       "'C:\\\\Users\\\\Adriana Jorge\\\\Desktop'"
      ]
     },
     "execution_count": 4,
     "metadata": {},
     "output_type": "execute_result"
    }
   ],
   "source": [
    "pwd"
   ]
  },
  {
   "cell_type": "code",
   "execution_count": 1,
   "id": "30ceb593-a790-4d7b-bcbd-601f2834897d",
   "metadata": {},
   "outputs": [],
   "source": [
    "import numpy as np"
   ]
  },
  {
   "cell_type": "markdown",
   "id": "9fd2da7e-2121-4887-b866-993b73e43ba1",
   "metadata": {},
   "source": [
    "# Main title\n",
    "## My subtitle\n",
    "This is my text. This is **my bold text**. This is my *my text*.\n",
    "\n",
    "- apples\n",
    "- oranges\n",
    "\n",
    "1. first\n",
    "2. second\n",
    "\n",
    "This is [my link](https://docs.google.com/presentation/d/1VYgZNp6Ty1pA_nVPbBj1O78s5Z3cB90aXnfaQ3D7koE/edit#slide=id.g24e559341d7_0_424)"
   ]
  },
  {
   "cell_type": "code",
   "execution_count": 10,
   "id": "64b8cd90-0b3c-4944-a5fc-f2fca2b28de8",
   "metadata": {},
   "outputs": [
    {
     "name": "stdout",
     "output_type": "stream",
     "text": [
      "Microsoft Windows [Version 10.0.19045.2965]\n",
      "(c) Microsoft Corporation. Todos os direitos reservados.\n",
      "\n",
      "(base) C:\\Users\\Adriana Jorge\\Desktop>cd ..\n",
      "\n",
      "(base) C:\\Users\\Adriana Jorge>"
     ]
    }
   ],
   "source": [
    "%%cmd\n",
    "cd .."
   ]
  },
  {
   "cell_type": "markdown",
   "id": "48065dd5-b1f1-4f2d-b0fa-740b018bb121",
   "metadata": {},
   "source": [
    "## second part"
   ]
  },
  {
   "cell_type": "code",
   "execution_count": 2,
   "id": "463fe389-66c9-4ab0-89fc-c41f39a25ce0",
   "metadata": {},
   "outputs": [
    {
     "name": "stdout",
     "output_type": "stream",
     "text": [
      "\n",
      "Note: you may need to restart the kernel to use updated packages.\n"
     ]
    },
    {
     "name": "stderr",
     "output_type": "stream",
     "text": [
      "usage: conda-script.py [-h] [-V] command ...\n",
      "conda-script.py: error: unrecognized arguments: jupyterlab jupyterlab-git\n"
     ]
    }
   ],
   "source": [
    "conda install -c conda-forge jupyterlab-git -y"
   ]
  },
  {
   "cell_type": "code",
   "execution_count": 1,
   "id": "a2348d96-28fd-405f-a177-8d030be2cccc",
   "metadata": {},
   "outputs": [
    {
     "name": "stdout",
     "output_type": "stream",
     "text": [
      "\n",
      "Note: you may need to restart the kernel to use updated packages.\n"
     ]
    },
    {
     "name": "stderr",
     "output_type": "stream",
     "text": [
      "usage: conda-script.py [-h] [-V] command ...\n",
      "conda-script.py: error: unrecognized arguments: jupyterlab-spellchecker\n"
     ]
    }
   ],
   "source": [
    "conda install -c conda-forge jupyterlab-spellchecker -y"
   ]
  },
  {
   "cell_type": "code",
   "execution_count": 1,
   "id": "a648fa65-09b3-4c3d-b753-3939c044dbfb",
   "metadata": {},
   "outputs": [],
   "source": [
    "import numpy as np"
   ]
  },
  {
   "cell_type": "code",
   "execution_count": null,
   "id": "6fdc62d4-c99b-4955-a4dc-4191314ebcb4",
   "metadata": {},
   "outputs": [],
   "source": []
  }
 ],
 "metadata": {
  "kernelspec": {
   "display_name": "Python 3 (ipykernel)",
   "language": "python",
   "name": "python3"
  },
  "language_info": {
   "codemirror_mode": {
    "name": "ipython",
    "version": 3
   },
   "file_extension": ".py",
   "mimetype": "text/x-python",
   "name": "python",
   "nbconvert_exporter": "python",
   "pygments_lexer": "ipython3",
   "version": "3.10.4"
  }
 },
 "nbformat": 4,
 "nbformat_minor": 5
}
